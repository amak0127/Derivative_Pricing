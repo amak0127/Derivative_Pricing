{
 "cells": [
  {
   "cell_type": "markdown",
   "metadata": {},
   "source": [
    "### Europian Option Pricing using Black-Scholes Model"
   ]
  },
  {
   "cell_type": "code",
   "execution_count": 5,
   "metadata": {},
   "outputs": [],
   "source": [
    "## import libraries\n",
    "import numpy as np\n",
    "import pandas as pd\n",
    "from math import log, sqrt, pi, exp\n",
    "from scipy.stats import norm\n",
    "from datetime import datetime, date"
   ]
  },
  {
   "cell_type": "markdown",
   "metadata": {},
   "source": [
    "Black-Scholes Model give the option price by:\n",
    "\n",
    "**𝐂=𝑆𝑁(𝑑1)−𝐾𝑒xp(−𝑟𝑡)𝑁(𝑑2)**\n",
    "\n",
    "**P=𝐾𝑒xp(−𝑟𝑡)𝑁(-𝑑2)-𝑆𝑁(-𝑑1)**\n",
    "\n",
    "\n",
    "- 𝑑1 = (ln(𝑆/𝐾)+t(𝑟+(sigma^2)/2) ) / sigma√𝑡\n",
    "- 𝑑2 = 𝑑1 − sigma√𝑡 \n",
    "where:\n",
    "\n",
    "C=Call option price\n",
    "P = Put Option price\n",
    "\n",
    "S=Current stock (or other underlying) price\n",
    "K=Strike price\n",
    "\n",
    "r=Risk-free interest rate\n",
    "t=Time to maturity\n",
    "N=Standard normal cumulative distribution function\n",
    "sigma = Underlying asset volatility"
   ]
  },
  {
   "cell_type": "markdown",
   "metadata": {},
   "source": [
    "**Defining the functions for the Black-Scholes Formula**"
   ]
  },
  {
   "cell_type": "code",
   "execution_count": 15,
   "metadata": {},
   "outputs": [],
   "source": [
    "def d1(S,K,T,r,sigma):\n",
    "    return (log(S/K)+(r+sigma**2/2.)*T)/sigma*sqrt(T)\n",
    "def d2(S,K,T,r,sigma):\n",
    "    return d1 (S,K,T,r,sigma)-sigma*sqrt(T)"
   ]
  },
  {
   "cell_type": "code",
   "execution_count": 16,
   "metadata": {},
   "outputs": [],
   "source": [
    "## Black-Scholes Option Pricing\n",
    "\n",
    "def bs_call(S,K,T,r,sigma):\n",
    "    return S*norm.cdf(d1(S,K,T,r,sigma))-K*exp(-r*T)*norm.cdf(d2(S,K,T,r,sigma))\n",
    "\n",
    "def bs_put(S,K,T,r,sigma):\n",
    "    return K*exp(-r*T)-S+bs_call(S,K,T,r,sigma)"
   ]
  },
  {
   "cell_type": "markdown",
   "metadata": {},
   "source": [
    "**Option Greeks**"
   ]
  },
  {
   "cell_type": "markdown",
   "metadata": {},
   "source": [
    "Below is the list of Option Greeks that I have computed along with their brief description:\n",
    "\n",
    "1. Delta: The change in the option price with 1 unit change in underlying asset price. In other words, the price sensitivity of the option is relative to the underlying asset\n",
    "2. Gamma: The rate of change of option's delta with respect to underlying asset price. This is called second-order (second-derivative) price sensitivity.\n",
    "3. Vega: The rate of change in the option price with respect to the volatility in the underlying asset.\n",
    "4. Rho: The rate of change in of the option price respected to the risk-free rate.\n",
    "5. Theta: The rate of change in the option price with respect to the time of expiry. This is also known as Option's time decay    "
   ]
  },
  {
   "cell_type": "code",
   "execution_count": 17,
   "metadata": {},
   "outputs": [],
   "source": [
    "## Delta\n",
    "def call_delta(S,K,T,r,sigma):\n",
    "    return norm.cdf(d1(S,K,T,r,sigma))\n",
    "\n",
    "def put_delta(S,K,T,r,sigma):\n",
    "    return -norm.cdf(-d1(S,K,T,r,sigma))\n",
    "\n",
    "\n",
    "## Gamma\n",
    "def call_gamma(S,K,T,r,sigma):\n",
    "    return norm.pdf(d1(S,K,T,r,sigma))/(S*sigma*sqrt(T))\n",
    "\n",
    "def put_gamma(S,K,T,r,sigma):\n",
    "    return norm.pdf(d1(S,K,T,r,sigma))/(S*sigma*sqrt(T))\n",
    "\n",
    "\n",
    "## Vega\n",
    "def call_vega(S,K,T,r,sigma):\n",
    "    return 0.01*(S*norm.pdf(d1(S,K,T,r,sigma))*sqrt(T))\n",
    "\n",
    "def put_vega(S,K,T,r,sigma):\n",
    "    return 0.01*(S*norm.pdf(d1(S,K,T,r,sigma))*sqrt(T))\n",
    "\n",
    "\n",
    "## Theta\n",
    "def call_theta(S,K,T,r,sigma):\n",
    "    return 0.01*(-(S*norm.pdf(d1(S,K,T,r,sigma))*sigma)/(2*sqrt(T)) - r*K*exp(-r*T)*norm.cdf(d2(S,K,T,r,sigma)))\n",
    "\n",
    "def put_theta(S,K,T,r,sigma):\n",
    "    return 0.01*(-(S*norm.pdf(d1(S,K,T,r,sigma))*sigma)/(2*sqrt(T)) + r*K*exp(-r*T)*norm.cdf(-d2(S,K,T,r,sigma)))\n",
    "\n",
    "\n",
    "## Rho\n",
    "def call_rho(S,K,T,r,sigma):\n",
    "    return 0.01*(K*T*exp(-r*T)*norm.cdf(d2(S,K,T,r,sigma)))\n",
    "\n",
    "def put_rho(S,K,T,r,sigma):\n",
    "    return 0.01*(-K*T*exp(-r*T)*norm.cdf(-d2(S,K,T,r,sigma)))"
   ]
  },
  {
   "cell_type": "markdown",
   "metadata": {},
   "source": [
    "**Taking input from the user**"
   ]
  },
  {
   "cell_type": "code",
   "execution_count": 20,
   "metadata": {},
   "outputs": [
    {
     "name": "stdout",
     "output_type": "stream",
     "text": [
      "Stock price?100\n",
      "Strike price?99\n",
      "Option Expiration Date? (yyyy-mm-dd) 2020-12-31\n",
      "Risk-free rate for this period(%)?2\n",
      "Volatility(%)?5\n"
     ]
    }
   ],
   "source": [
    "## Inputs from the User\n",
    "\n",
    "S = input(\"Stock price?\");\n",
    "while True:\n",
    "    try:\n",
    "        S = float(S)\n",
    "        break\n",
    "    except:\n",
    "        print(\"Please enter a Number\")\n",
    "        S = input(\"Stock price?\")\n",
    "\n",
    "        \n",
    "K = input(\"Strike price?\");\n",
    "while True:\n",
    "    try:\n",
    "        K = float(K)\n",
    "        break\n",
    "    except:\n",
    "        print(\"Please enter a Number\")\n",
    "        K = input(\"Strike price?\")\n",
    "\n",
    "\n",
    "while True:\n",
    "    time_to_expiry = input(\"Option Expiration Date? (yyyy-mm-dd) \")\n",
    "    try:\n",
    "        time_to_expiry = datetime.strptime(time_to_expiry, \"%Y-%m-%d\")\n",
    "    except ValueError as e:\n",
    "        print(\"error: %s\\nTry again.\" % (e,))\n",
    "    else:\n",
    "        break\n",
    "T = (time_to_expiry - datetime.utcnow()).days / 365\n",
    "\n",
    "\n",
    "r = input(\"Risk-free rate for this period(%)?\");\n",
    "while True:\n",
    "    try:\n",
    "        r = float(r)\n",
    "        break\n",
    "    except:\n",
    "        print(\"Please enter a Number.\")\n",
    "        r = input(\"Risk-free rate for this period(%)\")\n",
    "        \n",
    "## input the volatility and check if it is a number.\n",
    "sigma = input(\"Volatility(%)?\"); \n",
    "while True:\n",
    "    try:\n",
    "        sigma = float(sigma)\n",
    "        if sigma > 100 or sigma < 0:\n",
    "            print ( \"Enter a value between [0,100]\")\n",
    "            sigma = input(\"Volatility(%)?\")\n",
    "        break\n",
    "    except:\n",
    "        print ( \"Enter a value between [0,100]\")\n",
    "        sigma = input(\"Volatility(%)?\")\n"
   ]
  },
  {
   "cell_type": "code",
   "execution_count": 21,
   "metadata": {},
   "outputs": [
    {
     "data": {
      "text/html": [
       "<div>\n",
       "<style scoped>\n",
       "    .dataframe tbody tr th:only-of-type {\n",
       "        vertical-align: middle;\n",
       "    }\n",
       "\n",
       "    .dataframe tbody tr th {\n",
       "        vertical-align: top;\n",
       "    }\n",
       "\n",
       "    .dataframe thead th {\n",
       "        text-align: right;\n",
       "    }\n",
       "</style>\n",
       "<table border=\"1\" class=\"dataframe\">\n",
       "  <thead>\n",
       "    <tr style=\"text-align: right;\">\n",
       "      <th></th>\n",
       "      <th>Field</th>\n",
       "      <th>Value</th>\n",
       "    </tr>\n",
       "  </thead>\n",
       "  <tbody>\n",
       "    <tr>\n",
       "      <th>Stock price</th>\n",
       "      <td>S</td>\n",
       "      <td>100.000000</td>\n",
       "    </tr>\n",
       "    <tr>\n",
       "      <th>Strike price</th>\n",
       "      <td>K</td>\n",
       "      <td>99.000000</td>\n",
       "    </tr>\n",
       "    <tr>\n",
       "      <th>Time to maturity</th>\n",
       "      <td>T</td>\n",
       "      <td>0.084932</td>\n",
       "    </tr>\n",
       "    <tr>\n",
       "      <th>Risk-free rate</th>\n",
       "      <td>r</td>\n",
       "      <td>2.000000</td>\n",
       "    </tr>\n",
       "    <tr>\n",
       "      <th>Stock Volatility</th>\n",
       "      <td>sigma</td>\n",
       "      <td>5.000000</td>\n",
       "    </tr>\n",
       "  </tbody>\n",
       "</table>\n",
       "</div>"
      ],
      "text/plain": [
       "                  Field       Value\n",
       "Stock price           S  100.000000\n",
       "Strike price          K   99.000000\n",
       "Time to maturity      T    0.084932\n",
       "Risk-free rate        r    2.000000\n",
       "Stock Volatility  sigma    5.000000"
      ]
     },
     "execution_count": 21,
     "metadata": {},
     "output_type": "execute_result"
    }
   ],
   "source": [
    "data = {'Field': ['S', 'K', 'T', 'r', 'sigma'],\n",
    "        'Value': [S, K, T , r , sigma]}\n",
    "df1 = pd.DataFrame(data, columns=['Field', 'Value'], \n",
    "                   index=['Stock price', 'Strike price', 'Time to maturity', 'Risk-free rate', 'Stock Volatility'])\n",
    "df1"
   ]
  },
  {
   "cell_type": "code",
   "execution_count": 22,
   "metadata": {},
   "outputs": [
    {
     "data": {
      "text/html": [
       "<div>\n",
       "<style scoped>\n",
       "    .dataframe tbody tr th:only-of-type {\n",
       "        vertical-align: middle;\n",
       "    }\n",
       "\n",
       "    .dataframe tbody tr th {\n",
       "        vertical-align: top;\n",
       "    }\n",
       "\n",
       "    .dataframe thead th {\n",
       "        text-align: right;\n",
       "    }\n",
       "</style>\n",
       "<table border=\"1\" class=\"dataframe\">\n",
       "  <thead>\n",
       "    <tr style=\"text-align: right;\">\n",
       "      <th></th>\n",
       "      <th>Call</th>\n",
       "      <th>Put</th>\n",
       "    </tr>\n",
       "  </thead>\n",
       "  <tbody>\n",
       "    <tr>\n",
       "      <th>Price</th>\n",
       "      <td>1.189611</td>\n",
       "      <td>0.021589</td>\n",
       "    </tr>\n",
       "    <tr>\n",
       "      <th>delta</th>\n",
       "      <td>0.527545</td>\n",
       "      <td>-0.472455</td>\n",
       "    </tr>\n",
       "    <tr>\n",
       "      <th>gamma</th>\n",
       "      <td>0.273130</td>\n",
       "      <td>0.273130</td>\n",
       "    </tr>\n",
       "    <tr>\n",
       "      <th>vega</th>\n",
       "      <td>0.115987</td>\n",
       "      <td>0.115987</td>\n",
       "    </tr>\n",
       "    <tr>\n",
       "      <th>rho</th>\n",
       "      <td>0.043795</td>\n",
       "      <td>-0.040145</td>\n",
       "    </tr>\n",
       "    <tr>\n",
       "      <th>theta</th>\n",
       "      <td>-0.044454</td>\n",
       "      <td>-0.024688</td>\n",
       "    </tr>\n",
       "  </tbody>\n",
       "</table>\n",
       "</div>"
      ],
      "text/plain": [
       "           Call       Put\n",
       "Price  1.189611  0.021589\n",
       "delta  0.527545 -0.472455\n",
       "gamma  0.273130  0.273130\n",
       "vega   0.115987  0.115987\n",
       "rho    0.043795 -0.040145\n",
       "theta -0.044454 -0.024688"
      ]
     },
     "execution_count": 22,
     "metadata": {},
     "output_type": "execute_result"
    }
   ],
   "source": [
    "r = r/100; sigma = sigma/100;\n",
    "metrics = {'Call' : [bs_call(S,K,T,r,sigma), call_delta(S,K,T,r,sigma), call_gamma(S,K,T,r,sigma),call_vega(S,K,T,r,sigma), call_rho(S,K,T,r,sigma), call_theta(S,K,T,r,sigma)],\n",
    "                    'Put' : [bs_put(S,K,T,r,sigma), put_delta(S,K,T,r,sigma), put_gamma(S,K,T,r,sigma),put_vega(S,K,T,r,sigma), put_rho(S,K,T,r,sigma), put_theta(S,K,T,r,sigma)]}\n",
    "df2 = pd.DataFrame(metrics, columns=['Call','Put'], index=['Price', 'delta', 'gamma','vega','rho','theta'])\n",
    "df2"
   ]
  },
  {
   "cell_type": "markdown",
   "metadata": {},
   "source": [
    "**Conclusion:**\n",
    "Based on the user defined input, this above dataframe displays the output for Call and Put Option Price along with the Option Greeks "
   ]
  },
  {
   "cell_type": "markdown",
   "metadata": {},
   "source": [
    "I will further add the Implied Volatility calculation in the next part of this Notebook"
   ]
  },
  {
   "cell_type": "code",
   "execution_count": null,
   "metadata": {},
   "outputs": [],
   "source": []
  }
 ],
 "metadata": {
  "kernelspec": {
   "display_name": "Python 3",
   "language": "python",
   "name": "python3"
  },
  "language_info": {
   "codemirror_mode": {
    "name": "ipython",
    "version": 3
   },
   "file_extension": ".py",
   "mimetype": "text/x-python",
   "name": "python",
   "nbconvert_exporter": "python",
   "pygments_lexer": "ipython3",
   "version": "3.7.3"
  }
 },
 "nbformat": 4,
 "nbformat_minor": 2
}
