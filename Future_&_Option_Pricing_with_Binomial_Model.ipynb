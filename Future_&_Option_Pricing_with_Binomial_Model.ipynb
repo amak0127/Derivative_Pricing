{
 "cells": [
  {
   "cell_type": "markdown",
   "metadata": {},
   "source": [
    "### Derivative Pricing using the Binomial Model"
   ]
  },
  {
   "cell_type": "markdown",
   "metadata": {},
   "source": [
    "The below code implements the application Binomial Model in Derivative securities like Futures, European Call and Put Options with fixed interest rates over all the periods"
   ]
  },
  {
   "cell_type": "code",
   "execution_count": 7,
   "metadata": {},
   "outputs": [],
   "source": [
    "import numpy as np\n",
    "import math"
   ]
  },
  {
   "cell_type": "markdown",
   "metadata": {},
   "source": [
    "#### Inputs For the Binomial Lattices"
   ]
  },
  {
   "cell_type": "code",
   "execution_count": 8,
   "metadata": {},
   "outputs": [
    {
     "name": "stdout",
     "output_type": "stream",
     "text": [
      "Enter the Number of Binomial Periods:3\n",
      "Enter Initial Stock Price:100\n",
      "Factor Change in Upmove:1.1\n",
      "Risk Free Rate:0.1\n",
      "Strike Price:105\n"
     ]
    }
   ],
   "source": [
    "\"\"\"\n",
    "N = number of binomial iterations\n",
    "S0 = initial stock price\n",
    "u = factor change of upstate\n",
    "r = annual risk free rate\n",
    "K = strike price\n",
    "\"\"\"\n",
    "\n",
    "N = input(\"Enter the Number of Binomial Periods:\")\n",
    "N = int(N)\n",
    "\n",
    "S0 = input(\"Enter Initial Stock Price:\")\n",
    "S0 = float(S0)\n",
    "\n",
    "u = input(\"Factor Change in Upmove:\")\n",
    "u = float(u)\n",
    "\n",
    "r = input(\"Risk Free Rate:\")\n",
    "r = float(r)\n",
    "\n",
    "K = input(\"Strike Price:\")\n",
    "K = float(K)"
   ]
  },
  {
   "cell_type": "markdown",
   "metadata": {},
   "source": [
    "#### Generating Stock Lattice for Binomial Model"
   ]
  },
  {
   "cell_type": "code",
   "execution_count": 9,
   "metadata": {},
   "outputs": [
    {
     "name": "stdout",
     "output_type": "stream",
     "text": [
      "[[100.         110.         121.         133.1       ]\n",
      " [  0.          90.90909091 100.         110.        ]\n",
      " [  0.           0.          82.6446281   90.90909091]\n",
      " [  0.           0.           0.          75.13148009]]\n"
     ]
    }
   ],
   "source": [
    "stock = np.zeros([N+1,N+1])\n",
    "d = 1 / u\n",
    "for i in range(N+1):\n",
    "    for j in range(i+1):\n",
    "        stock[j,i] = S0*(u**(i-j))*(d**j)\n",
    "        \n",
    "print(stock)"
   ]
  },
  {
   "cell_type": "markdown",
   "metadata": {},
   "source": [
    "#### Future Lattice"
   ]
  },
  {
   "cell_type": "code",
   "execution_count": 18,
   "metadata": {},
   "outputs": [],
   "source": [
    "def future_binomial_model(N, S0, u, r):\n",
    "    \n",
    "    d = 1 / u\n",
    "    p = (1 + r - d) / (u - d)\n",
    "    q = 1 - p\n",
    "    \n",
    "    future = np.zeros([N+1,N+1])\n",
    "    future[:, N] = stock[:, N]\n",
    "    for i in range(N-1,-1,-1):\n",
    "        for j in range(0, i + 1):\n",
    "            future[j,i] = (p * future[j, i + 1] + q * future[j + 1, i + 1])\n",
    "    \n",
    "    return future"
   ]
  },
  {
   "cell_type": "markdown",
   "metadata": {},
   "source": [
    "#### Europian Option Lattice"
   ]
  },
  {
   "cell_type": "code",
   "execution_count": 16,
   "metadata": {},
   "outputs": [
    {
     "data": {
      "text/plain": [
       "array([[21.11194591, 23.2231405 , 25.54545455, 28.1       ],\n",
       "       [ 0.        ,  4.1322314 ,  4.54545455,  5.        ],\n",
       "       [ 0.        ,  0.        ,  0.        ,  0.        ],\n",
       "       [ 0.        ,  0.        ,  0.        ,  0.        ]])"
      ]
     },
     "execution_count": 16,
     "metadata": {},
     "output_type": "execute_result"
    }
   ],
   "source": [
    "def option_binomial_model(N, S0, u, r, K, Call = True):\n",
    "\n",
    "    d = 1 / u\n",
    "    p = (1 + r - d) / (u - d)\n",
    "    q = 1 - p\n",
    "\n",
    "    # make stock price tree\n",
    "    stock = np.zeros([N + 1, N + 1])\n",
    "    for i in range(N + 1):\n",
    "        for j in range(i + 1):\n",
    "            stock[j, i] = S0 * (u ** (i - j)) * (d ** j)\n",
    "\n",
    "    # Generate option prices recursively\n",
    "    option = np.zeros([N + 1, N + 1])\n",
    "    \n",
    "    if Call:\n",
    "        option[:, N] = np.maximum(np.zeros(N + 1), (stock[:, N] - K))\n",
    "    else:\n",
    "        option[:, N] = np.maximum(np.zeros(N + 1), (K - stock[:, N]))\n",
    "        \n",
    "    for i in range(N - 1, -1, -1):\n",
    "        for j in range(0, i + 1):\n",
    "            option[j, i] = (\n",
    "                1 / (1 + r) * (p * option[j, i + 1] + q * option[j + 1, i + 1])\n",
    "            )\n",
    "    return option"
   ]
  },
  {
   "cell_type": "code",
   "execution_count": 17,
   "metadata": {},
   "outputs": [
    {
     "name": "stdout",
     "output_type": "stream",
     "text": [
      "Calculating example option price:\n",
      "[[21.11194591 23.2231405  25.54545455 28.1       ]\n",
      " [ 0.          4.1322314   4.54545455  5.        ]\n",
      " [ 0.          0.          0.          0.        ]\n",
      " [ 0.          0.          0.          0.        ]]\n",
      "Generating Future Lattice:\n",
      "[[133.1        133.1        133.1        133.1       ]\n",
      " [  0.         110.         110.         110.        ]\n",
      " [  0.           0.          90.90909091  90.90909091]\n",
      " [  0.           0.           0.          75.13148009]]\n"
     ]
    }
   ],
   "source": [
    "print(\"Calculating example option price:\")\n",
    "op_price = option_binomial_model(N, S0, u, r, K)\n",
    "print(op_price)\n",
    "    \n",
    "    \n",
    "print(\"Generating Future Lattice:\")\n",
    "ft_price = future_binomial_model(N, S0, u, r)\n",
    "print(ft_price)"
   ]
  }
 ],
 "metadata": {
  "kernelspec": {
   "display_name": "Python 3",
   "language": "python",
   "name": "python3"
  },
  "language_info": {
   "codemirror_mode": {
    "name": "ipython",
    "version": 3
   },
   "file_extension": ".py",
   "mimetype": "text/x-python",
   "name": "python",
   "nbconvert_exporter": "python",
   "pygments_lexer": "ipython3",
   "version": "3.7.3"
  }
 },
 "nbformat": 4,
 "nbformat_minor": 2
}
